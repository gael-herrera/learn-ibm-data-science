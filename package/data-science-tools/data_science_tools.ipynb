{
 "cells": [
  {
   "cell_type": "markdown",
   "metadata": {},
   "source": [
    "# Tools for data science: Module 6"
   ]
  },
  {
   "cell_type": "markdown",
   "metadata": {},
   "source": [
    "## Introduction\n",
    "This notebook serves as an introductory guide to key concepts in Data Science viewed on the course. I will cover basic exercises and information, like provide examples of arithmetic expressions."
   ]
  },
  {
   "cell_type": "markdown",
   "metadata": {},
   "source": [
    "## Data Science Languages\n",
    "- Python\n",
    "- R\n",
    "- SQL\n",
    "- Julia\n",
    "- Scala"
   ]
  },
  {
   "cell_type": "markdown",
   "metadata": {},
   "source": [
    "## Data Science Libraries\n",
    "- NumPy\n",
    "- Pandas\n",
    "- Matplotlib\n",
    "- Scikit-learn\n",
    "- TensorFlow"
   ]
  },
  {
   "cell_type": "markdown",
   "metadata": {},
   "source": [
    "## Data Science Tools\n",
    "| Tool           | Purpose                  |\n",
    "|----------------|--------------------------|\n",
    "| Jupyter        | Interactive coding       |\n",
    "| RStudio        | R programming            |\n",
    "| Tableau        | Data visualization       |\n",
    "| GitHub         | Version control          |\n",
    "| Apache Spark   | Big data processing      |"
   ]
  },
  {
   "cell_type": "markdown",
   "metadata": {},
   "source": [
    "## Arithmetic Expression Examples\n",
    "In this section, we will demonstrate basic arithmetic operations using python."
   ]
  },
  {
   "cell_type": "code",
   "execution_count": 4,
   "metadata": {},
   "outputs": [
    {
     "data": {
      "text/plain": [
       "70"
      ]
     },
     "execution_count": 4,
     "metadata": {},
     "output_type": "execute_result"
    }
   ],
   "source": [
    "# Example of arithmetic expression: multiply and add numbers\n",
    "a = 5\n",
    "b = 10\n",
    "result = a * b + 20\n",
    "result"
   ]
  },
  {
   "cell_type": "code",
   "execution_count": 7,
   "metadata": {},
   "outputs": [
    {
     "name": "stdout",
     "output_type": "stream",
     "text": [
      "Add: 5\n",
      "Multiply: 6\n"
     ]
    }
   ],
   "source": [
    "# Multiply and add two numbers\n",
    "type real = float | int\n",
    "\n",
    "\n",
    "def multiply(a: real, b: real):\n",
    "    return a * b\n",
    "\n",
    "\n",
    "def add(a: real, b: real):\n",
    "    return a + b\n",
    "\n",
    "\n",
    "print(\"Add:\", add(2, 3))\n",
    "print(\"Multiply:\", multiply(2, 3))"
   ]
  },
  {
   "cell_type": "code",
   "execution_count": 6,
   "metadata": {},
   "outputs": [
    {
     "data": {
      "text/plain": [
       "2.0"
      ]
     },
     "execution_count": 6,
     "metadata": {},
     "output_type": "execute_result"
    }
   ],
   "source": [
    "# Convert minutes to hours\n",
    "def to_hours(minutes: int):\n",
    "    hours = minutes / 60\n",
    "    return hours\n",
    "\n",
    "\n",
    "# Example conversion\n",
    "to_hours(120)"
   ]
  },
  {
   "cell_type": "markdown",
   "metadata": {},
   "source": [
    "## Objectives\n",
    "- Understand key data science languages and their uses.\n",
    "- Familiarize with popular data science libraries and tools.\n",
    "- Learn to perform basic arithmetic operations relevant to data analysis."
   ]
  },
  {
   "cell_type": "markdown",
   "metadata": {},
   "source": [
    "## Author\n",
    "Gael Herrera."
   ]
  }
 ],
 "metadata": {
  "kernelspec": {
   "display_name": "Python 3",
   "language": "python",
   "name": "python3"
  },
  "language_info": {
   "codemirror_mode": {
    "name": "ipython",
    "version": 3
   },
   "file_extension": ".py",
   "mimetype": "text/x-python",
   "name": "python",
   "nbconvert_exporter": "python",
   "pygments_lexer": "ipython3",
   "version": "3.12.2"
  }
 },
 "nbformat": 4,
 "nbformat_minor": 4
}
